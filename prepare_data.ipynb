{
 "cells": [
  {
   "cell_type": "code",
   "execution_count": 5,
   "metadata": {},
   "outputs": [
    {
     "ename": "AttributeError",
     "evalue": "'numpy.int64' object has no attribute 'reset_index'",
     "output_type": "error",
     "traceback": [
      "\u001B[0;31m---------------------------------------------------------------------------\u001B[0m",
      "\u001B[0;31mAttributeError\u001B[0m                            Traceback (most recent call last)",
      "\u001B[0;32m<ipython-input-5-3e68320395db>\u001B[0m in \u001B[0;36m<module>\u001B[0;34m\u001B[0m\n\u001B[1;32m     46\u001B[0m \u001B[0mdf_top_10_country\u001B[0m \u001B[0;34m=\u001B[0m \u001B[0mselect_top_10_country_data\u001B[0m\u001B[0;34m(\u001B[0m\u001B[0mdf_country\u001B[0m\u001B[0;34m)\u001B[0m\u001B[0;34m\u001B[0m\u001B[0;34m\u001B[0m\u001B[0m\n\u001B[1;32m     47\u001B[0m \u001B[0mtop_10_country_list\u001B[0m \u001B[0;34m=\u001B[0m \u001B[0mdf_top_10_country\u001B[0m\u001B[0;34m.\u001B[0m\u001B[0mindex\u001B[0m\u001B[0;34m.\u001B[0m\u001B[0mtolist\u001B[0m\u001B[0;34m(\u001B[0m\u001B[0;34m)\u001B[0m\u001B[0;34m\u001B[0m\u001B[0;34m\u001B[0m\u001B[0m\n\u001B[0;32m---> 48\u001B[0;31m \u001B[0mtop_10_growth\u001B[0m \u001B[0;34m=\u001B[0m \u001B[0morder_by_day_from_num_cases\u001B[0m\u001B[0;34m(\u001B[0m\u001B[0mtop_10_country_list\u001B[0m\u001B[0;34m,\u001B[0m \u001B[0mdf_top_10_country\u001B[0m\u001B[0;34m,\u001B[0m \u001B[0;36m99\u001B[0m\u001B[0;34m)\u001B[0m\u001B[0;34m\u001B[0m\u001B[0;34m\u001B[0m\u001B[0m\n\u001B[0m\u001B[1;32m     49\u001B[0m \u001B[0mtop_10_growth\u001B[0m\u001B[0;34m\u001B[0m\u001B[0;34m\u001B[0m\u001B[0m\n\u001B[1;32m     50\u001B[0m \u001B[0;34m\u001B[0m\u001B[0m\n",
      "\u001B[0;32m<ipython-input-5-3e68320395db>\u001B[0m in \u001B[0;36morder_by_day_from_num_cases\u001B[0;34m(top_10_country_list, df_top_10_country, num_cases)\u001B[0m\n\u001B[1;32m     34\u001B[0m \u001B[0;34m\u001B[0m\u001B[0m\n\u001B[1;32m     35\u001B[0m     \u001B[0;32mfor\u001B[0m \u001B[0mcountry\u001B[0m \u001B[0;32min\u001B[0m \u001B[0mtop_10_country_list\u001B[0m\u001B[0;34m:\u001B[0m\u001B[0;34m\u001B[0m\u001B[0;34m\u001B[0m\u001B[0m\n\u001B[0;32m---> 36\u001B[0;31m         \u001B[0mcountry_first_case\u001B[0m \u001B[0;34m=\u001B[0m \u001B[0mdf_top_10_country\u001B[0m\u001B[0;34m.\u001B[0m\u001B[0mloc\u001B[0m\u001B[0;34m[\u001B[0m\u001B[0mcountry\u001B[0m\u001B[0;34m]\u001B[0m\u001B[0;34m[\u001B[0m\u001B[0;34m'Cases'\u001B[0m\u001B[0;34m]\u001B[0m\u001B[0;34m.\u001B[0m\u001B[0mreset_index\u001B[0m\u001B[0;34m(\u001B[0m\u001B[0;34m)\u001B[0m\u001B[0;34m.\u001B[0m\u001B[0mset_index\u001B[0m\u001B[0;34m(\u001B[0m\u001B[0;34m'Date'\u001B[0m\u001B[0;34m)\u001B[0m\u001B[0;34m\u001B[0m\u001B[0;34m\u001B[0m\u001B[0m\n\u001B[0m\u001B[1;32m     37\u001B[0m         \u001B[0mcountry_growth\u001B[0m \u001B[0;34m=\u001B[0m \u001B[0mcountry_first_case\u001B[0m\u001B[0;34m[\u001B[0m\u001B[0mcountry_first_case\u001B[0m\u001B[0;34m.\u001B[0m\u001B[0mgt\u001B[0m\u001B[0;34m(\u001B[0m\u001B[0mnum_cases\u001B[0m\u001B[0;34m)\u001B[0m\u001B[0;34m]\u001B[0m\u001B[0;34m.\u001B[0m\u001B[0mdropna\u001B[0m\u001B[0;34m(\u001B[0m\u001B[0;34m)\u001B[0m\u001B[0;34m.\u001B[0m\u001B[0mreset_index\u001B[0m\u001B[0;34m(\u001B[0m\u001B[0;34m)\u001B[0m\u001B[0;34m\u001B[0m\u001B[0;34m\u001B[0m\u001B[0m\n\u001B[1;32m     38\u001B[0m         \u001B[0mtop_10_growth\u001B[0m\u001B[0;34m[\u001B[0m\u001B[0mcountry\u001B[0m\u001B[0;34m]\u001B[0m \u001B[0;34m=\u001B[0m \u001B[0mcountry_growth\u001B[0m\u001B[0;34m\u001B[0m\u001B[0;34m\u001B[0m\u001B[0m\n",
      "\u001B[0;31mAttributeError\u001B[0m: 'numpy.int64' object has no attribute 'reset_index'"
     ]
    }
   ],
   "source": [
    "import pandas as pd\n",
    "\n",
    "\n",
    "def clean_data(df_raw):\n",
    "    \"\"\"Return melted dateframe and set index\"\"\"\n",
    "    df = df_raw.melt(id_vars=['Province/State','Country/Region','Lat','Long'],value_name='Cases',var_name='Date')\n",
    "    df = df.set_index(['Country/Region','Province/State','Date'])\n",
    "    return df\n",
    "\n",
    "\n",
    "def consolidate_country_data(df_cleaned):\n",
    "    \"\"\"Return country-wide data rather than by region\"\"\"\n",
    "    df = df_cleaned.groupby(['Country/Region','Date'])['Cases'].sum().reset_index()\n",
    "    df = df.set_index(['Country/Region','Date'])\n",
    "    df.index = df.index.set_levels([df.index.levels[0], pd.to_datetime(df.index.levels[1])])\n",
    "    df = df.sort_values(['Country/Region','Date'],ascending=True)\n",
    "    return df\n",
    "  \n",
    "\n",
    "def select_top_10_country_data(df_country_data):\n",
    "    \"\"\"Returns dataframe for top 10 countries sorted by maximum cases\"\"\"\n",
    "    df = df_country_data.max(level=0)['Cases'].reset_index().set_index('Country/Region')\n",
    "    df.sort_values(by='Cases',ascending=False, inplace=True)\n",
    "    df_top_10 = df.head(10)\n",
    "    return df_top_10\n",
    "\n",
    "\n",
    "# Why is this dict rather than dataframe?\n",
    "def order_by_day_from_num_cases(top_10_country_list, df_top_10_country, num_cases):\n",
    "    \"\"\"Returns dict with country names and the data. \n",
    "    Start defined as the first day more than num_cases were reported\"\"\"\n",
    "\n",
    "    top_10_growth = {}\n",
    "\n",
    "    for country in top_10_country_list:\n",
    "        country_first_case = df_top_10_country.loc[country]['Cases'].reset_index().set_index('Date')\n",
    "        country_growth = country_first_case[country_first_case.gt(num_cases)].dropna().reset_index()\n",
    "        top_10_growth[country] = country_growth\n",
    "\n",
    "    return top_10_growth\n",
    "    \n",
    "\n",
    "df_raw = pd.read_csv(\"https://github.com/CSSEGISandData/COVID-19/raw/master/csse_covid_19_data/csse_covid_19_time_series/time_series_covid19_confirmed_global.csv\")\n",
    "df_cleaned = clean_data(df_raw)\n",
    "df_country = consolidate_country_data(df_cleaned)\n",
    "df_top_10_country = select_top_10_country_data(df_country)\n",
    "top_10_country_list = df_top_10_country.index.tolist()\n",
    "top_10_growth = order_by_day_from_num_cases(top_10_country_list, df_top_10_country, 99)\n",
    "top_10_growth\n",
    "\n",
    "\n"
   ]
  },
  {
   "cell_type": "code",
   "execution_count": null,
   "metadata": {},
   "outputs": [],
   "source": []
  }
 ],
 "metadata": {
  "kernelspec": {
   "display_name": "Python 3",
   "language": "python",
   "name": "python3"
  },
  "language_info": {
   "codemirror_mode": {
    "name": "ipython",
    "version": 3
   },
   "file_extension": ".py",
   "mimetype": "text/x-python",
   "name": "python",
   "nbconvert_exporter": "python",
   "pygments_lexer": "ipython3",
   "version": "3.9.2"
  }
 },
 "nbformat": 4,
 "nbformat_minor": 1
}